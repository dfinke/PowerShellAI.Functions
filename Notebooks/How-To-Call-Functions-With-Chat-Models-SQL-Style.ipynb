{
 "cells": [
  {
   "cell_type": "markdown",
   "metadata": {},
   "source": [
    "<style>\n",
    "td, th {\n",
    "   border: none!important;\n",
    "}\n",
    "</style>\n",
    "\n",
    "||||\n",
    "|---|---|---|\n",
    "|![](media/OpenAILogo.png)|<img src=\"media/plusSign.jpg\" alt=\"drawing\" width=\"100\"/>|<img src=\"media/PSLogo.png\" alt=\"drawing\" width=\"200\"/>|\n",
    "\n",
    "<!-- ![Alt text](media/PSLogo.png) -->\n",
    "<!-- ![Alt text](media/plusSign.jpg) -->\n"
   ]
  },
  {
   "cell_type": "markdown",
   "metadata": {},
   "source": [
    "## How to call functions with model generated arguments\n",
    "\n",
    "In our next example, we'll demonstrate how to execute functions whose inputs are model-generated, and use this to implement an agent that can answer questions for us about a database. For simplicity we'll use the [Chinook sample database](https://github.com/lerocha/chinook-database).\n",
    "\n",
    "*Note:* SQL generation can be high-risk in a production environment since models are not perfectly reliable at generating correct SQL."
   ]
  },
  {
   "cell_type": "markdown",
   "metadata": {},
   "source": [
    "## Set Your OpenAI Key"
   ]
  },
  {
   "cell_type": "code",
   "execution_count": 1,
   "metadata": {
    "dotnet_interactive": {
     "language": "pwsh"
    },
    "polyglot_notebook": {
     "kernelName": "pwsh"
    }
   },
   "outputs": [],
   "source": [
    "$env:OpenAIKey = 'sk-xxxxxxxxxxxxxxxxxxxxxxxxxxxxxxxxxxxxxxxxxxxxxxxx'"
   ]
  },
  {
   "cell_type": "markdown",
   "metadata": {},
   "source": [
    "## Install PowerShellAI"
   ]
  },
  {
   "cell_type": "code",
   "execution_count": 2,
   "metadata": {
    "dotnet_interactive": {
     "language": "pwsh"
    },
    "polyglot_notebook": {
     "kernelName": "pwsh"
    }
   },
   "outputs": [
    {
     "data": {
      "text/plain": []
     },
     "metadata": {},
     "output_type": "display_data"
    }
   ],
   "source": [
    "$module = 'PowerShellAI'\n",
    "$moduleExists = Get-Module -list $module \n",
    "if($null -eq $moduleExists) {\n",
    "    Install-Module -Name $module -Force\n",
    "}\n",
    "\n",
    "Import-Module PowerShellAI -Force"
   ]
  },
  {
   "cell_type": "markdown",
   "metadata": {},
   "source": [
    "### Specifying a function to execute SQL queries\n",
    "\n",
    "First let's define some helpful utility functions to extract data from a SQL Server database."
   ]
  },
  {
   "cell_type": "code",
   "execution_count": 2,
   "metadata": {
    "dotnet_interactive": {
     "language": "pwsh"
    },
    "polyglot_notebook": {
     "kernelName": "pwsh"
    }
   },
   "outputs": [],
   "source": [
    "function Invoke-SQL {\n",
    "    param(\n",
    "        $conn,\n",
    "        $sql\n",
    "    )\n",
    "\n",
    "    $SqlCmd = New-Object System.Data.SqlClient.SqlCommand\n",
    "    $SqlCmd.CommandText = $sql\n",
    "    $SqlCmd.Connection = $conn\n",
    "\n",
    "    $SqlAdapter = New-Object System.Data.SqlClient.SqlDataAdapter\n",
    "    $SqlAdapter.SelectCommand = $SqlCmd\n",
    "    \n",
    "    $DataSet = New-Object System.Data.DataSet\n",
    "    $null = $SqlAdapter.Fill($DataSet)\n",
    "    \n",
    "    $DataSet.Tables\n",
    "\n",
    "    $conn.Close()\n",
    "}"
   ]
  },
  {
   "cell_type": "markdown",
   "metadata": {},
   "source": [
    "### Support functions\n",
    "\n",
    "- Get-TableNames\n",
    "- Get-ColumnNames\n",
    "- Get-DatabaseInfo"
   ]
  },
  {
   "cell_type": "code",
   "execution_count": 3,
   "metadata": {
    "dotnet_interactive": {
     "language": "pwsh"
    },
    "polyglot_notebook": {
     "kernelName": "pwsh"
    }
   },
   "outputs": [],
   "source": [
    "function Get-TableNames {\n",
    "    param(\n",
    "        $conn\n",
    "    )    \n",
    "    \n",
    "    Invoke-SQL $conn \"SELECT TABLE_Name as Name FROM INFORMATION_SCHEMA.TABLES WHERE TABLE_TYPE='BASE TABLE'\"\n",
    "}\n",
    "\n",
    "function Get-ColumnNames {\n",
    "    param(\n",
    "        $conn,\n",
    "        $tableName\n",
    "    )    \n",
    "    \n",
    "    $sql = \"SELECT COLUMN_NAME as Name FROM INFORMATION_SCHEMA.COLUMNS WHERE TABLE_NAME='$tableName'\"\n",
    "    Invoke-SQL $conn $sql\n",
    "}\n",
    "\n",
    "function Get-DatabaseInfo {\n",
    "    param(\n",
    "        $conn,\n",
    "        [switch]$Compress,\n",
    "        [switch]$Raw\n",
    "    )\n",
    "    \n",
    "    $tables = [ordered]@{}\n",
    "    $tableNames = (Get-TableNames $conn).Name\n",
    "    \n",
    "    foreach ($tablename in $tableNames) {\n",
    "        $columns_names = (Get-ColumnNames $conn $tableName).Name\n",
    "        \n",
    "        if ($tables.Contains($tableName)) {\n",
    "            $tables[$tableName] += $columns_names\n",
    "        }\n",
    "        else {\n",
    "            $tables[$tableName] = @($columns_names)\n",
    "        }        \n",
    "    }\n",
    "\n",
    "    if ($Raw) {\n",
    "        $tables\n",
    "    }\n",
    "    else {\n",
    "        $tables | ConvertTo-Json -Compress:$Compress\n",
    "    }\n",
    "}"
   ]
  },
  {
   "cell_type": "markdown",
   "metadata": {},
   "source": [
    "Now can use these utility functions to extract a representation of the database schema."
   ]
  },
  {
   "cell_type": "code",
   "execution_count": 4,
   "metadata": {
    "dotnet_interactive": {
     "language": "pwsh"
    },
    "polyglot_notebook": {
     "kernelName": "pwsh"
    }
   },
   "outputs": [],
   "source": [
    "# You need to change the Server to your own server name and database\n",
    "\n",
    "$SqlConnection = New-Object System.Data.SqlClient.SqlConnection \"Database=Chinook;Server=DESKTOP-RGI79SG\\SQLEXPRESS02;Trusted_Connection=True;\"\n",
    "\n",
    "$databaseSchema = Get-DatabaseInfo $SqlConnection"
   ]
  },
  {
   "cell_type": "markdown",
   "metadata": {},
   "source": [
    "Show the schema"
   ]
  },
  {
   "cell_type": "code",
   "execution_count": 5,
   "metadata": {
    "dotnet_interactive": {
     "language": "pwsh"
    },
    "polyglot_notebook": {
     "kernelName": "pwsh"
    }
   },
   "outputs": [
    {
     "name": "stdout",
     "output_type": "stream",
     "text": [
      "{\r\n",
      "  \"Album\": [\r\n",
      "    \"AlbumId\",\r\n",
      "    \"Title\",\r\n",
      "    \"ArtistId\"\r\n",
      "  ],\r\n",
      "  \"Artist\": [\r\n",
      "    \"ArtistId\",\r\n",
      "    \"Name\"\r\n",
      "  ],\r\n",
      "  \"Customer\": [\r\n",
      "    \"CustomerId\",\r\n",
      "    \"FirstName\",\r\n",
      "    \"LastName\",\r\n",
      "    \"Company\",\r\n",
      "    \"Address\",\r\n",
      "    \"City\",\r\n",
      "    \"State\",\r\n",
      "    \"Country\",\r\n",
      "    \"PostalCode\",\r\n",
      "    \"Phone\",\r\n",
      "    \"Fax\",\r\n",
      "    \"Email\",\r\n",
      "    \"SupportRepId\"\r\n",
      "  ],\r\n",
      "  \"Employee\": [\r\n",
      "    \"EmployeeId\",\r\n",
      "    \"LastName\",\r\n",
      "    \"FirstName\",\r\n",
      "    \"Title\",\r\n",
      "    \"ReportsTo\",\r\n",
      "    \"BirthDate\",\r\n",
      "    \"HireDate\",\r\n",
      "    \"Address\",\r\n",
      "    \"City\",\r\n",
      "    \"State\",\r\n",
      "    \"Country\",\r\n",
      "    \"PostalCode\",\r\n",
      "    \"Phone\",\r\n",
      "    \"Fax\",\r\n",
      "    \"Email\"\r\n",
      "  ],\r\n",
      "  \"Genre\": [\r\n",
      "    \"GenreId\",\r\n",
      "    \"Name\"\r\n",
      "  ],\r\n",
      "  \"Invoice\": [\r\n",
      "    \"InvoiceId\",\r\n",
      "    \"CustomerId\",\r\n",
      "    \"InvoiceDate\",\r\n",
      "    \"BillingAddress\",\r\n",
      "    \"BillingCity\",\r\n",
      "    \"BillingState\",\r\n",
      "    \"BillingCountry\",\r\n",
      "    \"BillingPostalCode\",\r\n",
      "    \"Total\"\r\n",
      "  ],\r\n",
      "  \"InvoiceLine\": [\r\n",
      "    \"InvoiceLineId\",\r\n",
      "    \"InvoiceId\",\r\n",
      "    \"TrackId\",\r\n",
      "    \"UnitPrice\",\r\n",
      "    \"Quantity\"\r\n",
      "  ],\r\n",
      "  \"MediaType\": [\r\n",
      "    \"MediaTypeId\",\r\n",
      "    \"Name\"\r\n",
      "  ],\r\n",
      "  \"Playlist\": [\r\n",
      "    \"PlaylistId\",\r\n",
      "    \"Name\"\r\n",
      "  ],\r\n",
      "  \"PlaylistTrack\": [\r\n",
      "    \"PlaylistId\",\r\n",
      "    \"TrackId\"\r\n",
      "  ],\r\n",
      "  \"Track\": [\r\n",
      "    \"TrackId\",\r\n",
      "    \"Name\",\r\n",
      "    \"AlbumId\",\r\n",
      "    \"MediaTypeId\",\r\n",
      "    \"GenreId\",\r\n",
      "    \"Composer\",\r\n",
      "    \"Milliseconds\",\r\n",
      "    \"Bytes\",\r\n",
      "    \"UnitPrice\"\r\n",
      "  ]\r\n",
      "}\r\n"
     ]
    }
   ],
   "source": [
    "$databaseSchema"
   ]
  },
  {
   "cell_type": "markdown",
   "metadata": {},
   "source": [
    "### Executing SQL queries\n",
    "\n",
    "Now let's implement the function that will actually excute queries against the database."
   ]
  },
  {
   "cell_type": "code",
   "execution_count": 6,
   "metadata": {
    "dotnet_interactive": {
     "language": "pwsh"
    },
    "polyglot_notebook": {
     "kernelName": "pwsh"
    }
   },
   "outputs": [],
   "source": [
    "function Invoke-AskDatabase {\n",
    "    <#\n",
    "        .FunctionDescription\n",
    "        Function to query a SQL Server database with a provided SQL query.\n",
    "        .PARAMETERDESCRIPTION query\n",
    "        SQL query extracting info to answer the user's question. SQL should be written using this database schema: $databaseSchema  The query should be returned in plain text, not in JSON.\n",
    "    #>\n",
    "    param(        \n",
    "        [string]$query\n",
    "    )\n",
    "    \n",
    "    Invoke-Sql $SqlConnection $query\n",
    "}\n",
    "\n",
    "function Invoke-ExecuteFunctionCall {\n",
    "    param(\n",
    "        $message\n",
    "    )\n",
    "    \n",
    "    if ($message.function_call.name -eq \"Invoke-AskDatabase\") {\n",
    "        $query = ($message.function_call.arguments | ConvertFrom-Json).query\n",
    "        $results = Invoke-AskDatabase $query\n",
    "    }\n",
    "    else {\n",
    "        $results = \"Error: function $message.function_call.name does not exist\"\n",
    "    }\n",
    "    \n",
    "    $results\n",
    "}"
   ]
  },
  {
   "cell_type": "markdown",
   "metadata": {},
   "source": [
    "We'll define a function specification for the function we'd like the API to generate arguments for.\n",
    "Notice that we are inserting the database schema into the function specification. This will be important for the model to know about."
   ]
  },
  {
   "cell_type": "code",
   "execution_count": 7,
   "metadata": {
    "dotnet_interactive": {
     "language": "pwsh"
    },
    "polyglot_notebook": {
     "kernelName": "pwsh"
    }
   },
   "outputs": [
    {
     "name": "stdout",
     "output_type": "stream",
     "text": [
      "{\r\n",
      "  \"name\": \"Invoke-AskDatabase\",\r\n",
      "  \"description\": \"Function to query a SQL Server database with a provided SQL query.\",\r\n",
      "  \"parameters\": {\r\n",
      "    \"type\": \"object\",\r\n",
      "    \"properties\": {\r\n",
      "      \"query\": {\r\n",
      "        \"type\": \"string\",\r\n",
      "        \"description\": \"SQL query extracting info to answer the user's question. SQL should be written using this database schema: {\\r\\n  \\\"Album\\\": [\\r\\n    \\\"AlbumId\\\",\\r\\n    \\\"Title\\\",\\r\\n    \\\"ArtistId\\\"\\r\\n  ],\\r\\n  \\\"Artist\\\": [\\r\\n    \\\"ArtistId\\\",\\r\\n    \\\"Name\\\"\\r\\n  ],\\r\\n  \\\"Customer\\\": [\\r\\n    \\\"CustomerId\\\",\\r\\n    \\\"FirstName\\\",\\r\\n    \\\"LastName\\\",\\r\\n    \\\"Company\\\",\\r\\n    \\\"Address\\\",\\r\\n    \\\"City\\\",\\r\\n    \\\"State\\\",\\r\\n    \\\"Country\\\",\\r\\n    \\\"PostalCode\\\",\\r\\n    \\\"Phone\\\",\\r\\n    \\\"Fax\\\",\\r\\n    \\\"Email\\\",\\r\\n    \\\"SupportRepId\\\"\\r\\n  ],\\r\\n  \\\"Employee\\\": [\\r\\n    \\\"EmployeeId\\\",\\r\\n    \\\"LastName\\\",\\r\\n    \\\"FirstName\\\",\\r\\n    \\\"Title\\\",\\r\\n    \\\"ReportsTo\\\",\\r\\n    \\\"BirthDate\\\",\\r\\n    \\\"HireDate\\\",\\r\\n    \\\"Address\\\",\\r\\n    \\\"City\\\",\\r\\n    \\\"State\\\",\\r\\n    \\\"Country\\\",\\r\\n    \\\"PostalCode\\\",\\r\\n    \\\"Phone\\\",\\r\\n    \\\"Fax\\\",\\r\\n    \\\"Email\\\"\\r\\n  ],\\r\\n  \\\"Genre\\\": [\\r\\n    \\\"GenreId\\\",\\r\\n    \\\"Name\\\"\\r\\n  ],\\r\\n  \\\"Invoice\\\": [\\r\\n    \\\"InvoiceId\\\",\\r\\n    \\\"CustomerId\\\",\\r\\n    \\\"InvoiceDate\\\",\\r\\n    \\\"BillingAddress\\\",\\r\\n    \\\"BillingCity\\\",\\r\\n    \\\"BillingState\\\",\\r\\n    \\\"BillingCountry\\\",\\r\\n    \\\"BillingPostalCode\\\",\\r\\n    \\\"Total\\\"\\r\\n  ],\\r\\n  \\\"InvoiceLine\\\": [\\r\\n    \\\"InvoiceLineId\\\",\\r\\n    \\\"InvoiceId\\\",\\r\\n    \\\"TrackId\\\",\\r\\n    \\\"UnitPrice\\\",\\r\\n    \\\"Quantity\\\"\\r\\n  ],\\r\\n  \\\"MediaType\\\": [\\r\\n    \\\"MediaTypeId\\\",\\r\\n    \\\"Name\\\"\\r\\n  ],\\r\\n  \\\"Playlist\\\": [\\r\\n    \\\"PlaylistId\\\",\\r\\n    \\\"Name\\\"\\r\\n  ],\\r\\n  \\\"PlaylistTrack\\\": [\\r\\n    \\\"PlaylistId\\\",\\r\\n    \\\"TrackId\\\"\\r\\n  ],\\r\\n  \\\"Track\\\": [\\r\\n    \\\"TrackId\\\",\\r\\n    \\\"Name\\\",\\r\\n    \\\"AlbumId\\\",\\r\\n    \\\"MediaTypeId\\\",\\r\\n    \\\"GenreId\\\",\\r\\n    \\\"Composer\\\",\\r\\n    \\\"Milliseconds\\\",\\r\\n    \\\"Bytes\\\",\\r\\n    \\\"UnitPrice\\\"\\r\\n  ]\\r\\n}  The query should be returned in plain text, not in JSON.\"\r\n",
      "      }\r\n",
      "    },\r\n",
      "    \"required\": [\r\n",
      "      \"query\"\r\n",
      "    ]\r\n",
      "  }\r\n",
      "}\r\n"
     ]
    }
   ],
   "source": [
    "$functions = ConvertFrom-FunctionDefinition (Get-Command Invoke-AskDatabase)\n",
    "$functions | ConvertTo-Json -Depth 5"
   ]
  },
  {
   "cell_type": "markdown",
   "metadata": {},
   "source": [
    "### Let's ask the GPT model some questions\n",
    "\n",
    "The `system` prompt is a bit chewy. We're letting the model know we're using Microsoft SQL Server. Also, that it needs to use the TOP keyword. Provide a couple of examples. Then we give the model time to think by telling it the column names, table names and syntax needs to be correct."
   ]
  },
  {
   "cell_type": "code",
   "execution_count": 8,
   "metadata": {
    "dotnet_interactive": {
     "language": "pwsh"
    },
    "polyglot_notebook": {
     "kernelName": "pwsh"
    }
   },
   "outputs": [],
   "source": [
    "$messages = @(\n",
    "    # This helps the system understand the context of the question. THink steerability\n",
    "    New-ChatMessageTemplate -Role system -Content '\n",
    "Answer user questions by generating Microsoft SQL queries against the Chinook Music Database. \n",
    "- Do not user the LIMIT keyword, use TOP\n",
    "    - SELECT TOP number FROM table_name WHERE condition\n",
    "    - SELECT TOP (5) employee_id, last_name, first_name FROM employees \n",
    "- Make sure the column and table names are correct and exist\n",
    "- The SQL syntax needs to work on Microsoft SQL Server    \n",
    "'\n",
    "\n",
    "    # Here is our question\n",
    "    New-ChatMessageTemplate -Role user -Content 'Hi, who are the top 5 artists by number of tracks?'\n",
    ")\n",
    "\n",
    "$chatResponse = Get-ChatCompletion -messages $messages -functions $functions"
   ]
  },
  {
   "cell_type": "markdown",
   "metadata": {},
   "source": [
    "### Let's Inspect the Response"
   ]
  },
  {
   "cell_type": "code",
   "execution_count": 9,
   "metadata": {
    "dotnet_interactive": {
     "language": "pwsh"
    },
    "polyglot_notebook": {
     "kernelName": "pwsh"
    }
   },
   "outputs": [
    {
     "name": "stdout",
     "output_type": "stream",
     "text": [
      "\n",
      "index         : 0\n",
      "message       : @{role=assistant; content=; function_call=}\n",
      "finish_reason : function_call\n",
      "\n",
      "\n",
      "\n",
      "\n",
      "role          : assistant\n",
      "content       : \n",
      "function_call : @{name=Invoke-AskDatabase; arguments={\n",
      "                  \"query\": \"SELECT TOP 5 Artist.Name, COUNT(Track.TrackId) AS TrackCount FROM Artist JOIN Album ON Artist.ArtistId = Album.ArtistId JOIN Track ON Album.AlbumId = Track.AlbumId GROUP BY Artist.Name ORDER BY TrackCount DESC;\"\n",
      "                }}\n",
      "\n",
      "\n",
      "\n"
     ]
    }
   ],
   "source": [
    "$chatResponse.choices[0] | Format-List | Out-String\n",
    "\n",
    "$chatResponse.choices[0].message | Format-List | Out-String"
   ]
  },
  {
   "cell_type": "markdown",
   "metadata": {},
   "source": [
    "The response came back with `finish_reason : function_call` indicating the GPT model determined the function that needs to be invoked.\n",
    "\n",
    "Looking at `$chatResponse.choices[0].message` we see the name of the function `Invoke-AskDatabase` and the arguments to pass. Remember we set this up when we converted from the PowerShell function `Invoke-AskDatabase` to an OpenAI Function Spec.\n",
    "\n",
    "### Let's Invoke the Function"
   ]
  },
  {
   "cell_type": "code",
   "execution_count": 10,
   "metadata": {
    "dotnet_interactive": {
     "language": "pwsh"
    },
    "polyglot_notebook": {
     "kernelName": "pwsh"
    }
   },
   "outputs": [
    {
     "name": "stdout",
     "output_type": "stream",
     "text": [
      "\n",
      "\u001b[32;1mName         TrackCount\u001b[0m\n",
      "\u001b[32;1m----         ----------\u001b[0m\n",
      "Iron Maiden         213\n",
      "U2                  135\n",
      "Led Zeppelin        114\n",
      "Metallica           112\n",
      "Deep Purple          92\n",
      "\n"
     ]
    }
   ],
   "source": [
    "Invoke-ExecuteFunctionCall $chatResponse.choices[0].message"
   ]
  },
  {
   "cell_type": "markdown",
   "metadata": {},
   "source": [
    "### Put It All Together"
   ]
  },
  {
   "cell_type": "code",
   "execution_count": 11,
   "metadata": {
    "dotnet_interactive": {
     "language": "pwsh"
    },
    "polyglot_notebook": {
     "kernelName": "pwsh"
    }
   },
   "outputs": [],
   "source": [
    "function Invoke-SQLCopilot {\n",
    "    param(\n",
    "        [Parameter(Mandatory)]\n",
    "        $q\n",
    "    )\n",
    "\n",
    "    $messages = @(\n",
    "        # This helps the system understand the context of the question. THink steerability\n",
    "        New-ChatMessageTemplate -Role system -Content '\n",
    "Answer user questions by generating Microsoft SQL queries against the Chinook Music Database. \n",
    "- Do not user the LIMIT keyword, use TOP\n",
    "    - SELECT TOP number FROM table_name WHERE condition\n",
    "    - SELECT TOP (5) employee_id, last_name, first_name FROM employees \n",
    "- Make sure the column and table names are correct and exist\n",
    "- The SQL syntax needs to work on Microsoft SQL Server    \n",
    "    '\n",
    "        New-ChatMessageTemplate -Role user -Content $q\n",
    "    )\n",
    "\n",
    "    $chatResponse = Get-ChatCompletion -messages $messages -functions $functions\n",
    "    \n",
    "    Invoke-ExecuteFunctionCall $chatResponse.choices[0].message\n",
    "}\n"
   ]
  },
  {
   "cell_type": "code",
   "execution_count": 12,
   "metadata": {
    "dotnet_interactive": {
     "language": "pwsh"
    },
    "polyglot_notebook": {
     "kernelName": "pwsh"
    }
   },
   "outputs": [
    {
     "name": "stdout",
     "output_type": "stream",
     "text": [
      "\n",
      "\u001b[32;1mFirstName LastName TotalSales\u001b[0m\n",
      "\u001b[32;1m--------- -------- ----------\u001b[0m\n",
      "Steve     Johnson      164.34\n",
      "\n"
     ]
    }
   ],
   "source": [
    "Invoke-SQLCopilot 'which sales agent made the most in sales in 2009?'"
   ]
  },
  {
   "cell_type": "code",
   "execution_count": 13,
   "metadata": {
    "dotnet_interactive": {
     "language": "pwsh"
    },
    "polyglot_notebook": {
     "kernelName": "pwsh"
    }
   },
   "outputs": [
    {
     "name": "stdout",
     "output_type": "stream",
     "text": [
      "\n",
      "\u001b[32;1mName                 TimesBought\u001b[0m\n",
      "\u001b[32;1m----                 -----------\u001b[0m\n",
      "Dazed and Confused             5\n",
      "The Trooper                    5\n",
      "Eruption                       4\n",
      "Hallowed Be Thy Name           4\n",
      "Sure Know Something            4\n",
      "\n"
     ]
    }
   ],
   "source": [
    "Invoke-SQLCopilot 'Find the top 5 tracks that have been bought most often'"
   ]
  }
 ],
 "metadata": {
  "kernelspec": {
   "display_name": ".NET (C#)",
   "language": "C#",
   "name": ".net-csharp"
  },
  "language_info": {
   "name": "polyglot-notebook"
  },
  "polyglot_notebook": {
   "kernelInfo": {
    "defaultKernelName": "csharp",
    "items": [
     {
      "aliases": [],
      "name": "csharp"
     },
     {
      "aliases": [],
      "languageName": "pwsh",
      "name": "pwsh"
     }
    ]
   }
  }
 },
 "nbformat": 4,
 "nbformat_minor": 2
}
